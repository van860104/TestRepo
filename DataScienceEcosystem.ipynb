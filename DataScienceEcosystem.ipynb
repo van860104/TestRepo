{
 "cells": [
  {
   "cell_type": "markdown",
   "id": "40af7a39-9bac-473d-9830-1319238db98e",
   "metadata": {},
   "source": [
    "# Data Science Tools and Ecosystem"
   ]
  },
  {
   "cell_type": "markdown",
   "id": "596c1d07-9bd7-4d98-960f-37a9d9129acc",
   "metadata": {},
   "source": [
    "In this notebook, Data Science Tools and Ecosystem are summarized."
   ]
  },
  {
   "cell_type": "markdown",
   "id": "9ffc450c-941b-48aa-98ee-a6fdd690c787",
   "metadata": {},
   "source": [
    "**Objectives:**\n",
    "+ List popular languages for Data Science \n",
    "+ List commonly libraries for Data Scientists\n",
    "+ Add a clounm for Data Science Tools\n",
    "+ To add integer multiples, use a simple arithmetic expression."
   ]
  },
  {
   "cell_type": "markdown",
   "id": "09f0bcd9-a070-4844-b60d-ccc660e7b1c2",
   "metadata": {},
   "source": [
    "Some of the popular languages that Data Scientists use are:\n",
    "1. Python\n",
    "2. SQL\n",
    "3. R"
   ]
  },
  {
   "cell_type": "markdown",
   "id": "f38ccc0d-e684-4412-b8ea-9bb637cb0313",
   "metadata": {},
   "source": [
    "Some of the commonly used libraries used by Data Scientists include:\n",
    "1. Pandas\n",
    "2. NumPy\n",
    "3. Matplotlib"
   ]
  },
  {
   "cell_type": "markdown",
   "id": "9f7551ac-8804-4e73-a91a-3f2648c2e535",
   "metadata": {},
   "source": [
    "|Data Science Tools |\n",
    "| ------ |\n",
    "|Hadoop|\n",
    "|MySQL|\n",
    "|Airflow|\n",
    "|Kafka|"
   ]
  },
  {
   "cell_type": "markdown",
   "id": "8b355a67-c8f3-4491-baa0-9e3a8c7580f4",
   "metadata": {},
   "source": [
    "### Below are a few examples of evaluating arithmetic expressions in Python"
   ]
  },
  {
   "cell_type": "code",
   "execution_count": 2,
   "id": "b73d14f0-5491-4add-88d5-fe6ffbcc60b5",
   "metadata": {},
   "outputs": [
    {
     "data": {
      "text/plain": [
       "17"
      ]
     },
     "execution_count": 2,
     "metadata": {},
     "output_type": "execute_result"
    }
   ],
   "source": [
    "#This a simple arithmetic expression to mutiply then add integers \n",
    "(3*4)+5"
   ]
  },
  {
   "cell_type": "code",
   "execution_count": 3,
   "id": "bcd5afd0-f876-479d-b648-6584cf55e75b",
   "metadata": {
    "scrolled": true
   },
   "outputs": [
    {
     "data": {
      "text/plain": [
       "3.33"
      ]
     },
     "execution_count": 3,
     "metadata": {},
     "output_type": "execute_result"
    }
   ],
   "source": [
    "#This will convert 200 minutes to hours by diving by 60\n",
    "round(200/ 60, 2)"
   ]
  },
  {
   "cell_type": "markdown",
   "id": "3e1551e3-c639-407b-aebe-0f6b1d1bf785",
   "metadata": {},
   "source": [
    "## Author\n",
    "\n",
    "Vanessa\n"
   ]
  },
  {
   "cell_type": "code",
   "execution_count": null,
   "id": "db971caf-30af-4faa-924e-fdb3d254272a",
   "metadata": {},
   "outputs": [],
   "source": []
  }
 ],
 "metadata": {
  "kernelspec": {
   "display_name": "Python 3 (ipykernel)",
   "language": "python",
   "name": "python3"
  },
  "language_info": {
   "codemirror_mode": {
    "name": "ipython",
    "version": 3
   },
   "file_extension": ".py",
   "mimetype": "text/x-python",
   "name": "python",
   "nbconvert_exporter": "python",
   "pygments_lexer": "ipython3",
   "version": "3.11.11"
  }
 },
 "nbformat": 4,
 "nbformat_minor": 5
}
